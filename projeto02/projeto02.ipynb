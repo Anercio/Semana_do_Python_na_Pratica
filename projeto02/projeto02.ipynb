{
 "cells": [
  {
   "cell_type": "markdown",
   "metadata": {},
   "source": [
    "# Projeto 02\n",
    "\n",
    "'Dividir para conquistar'.\n",
    "\n",
    "Passo a passo do problema\n",
    "\n",
    "- Buscar as informações da ação automaticamente\n",
    "- Criar as analises solicitadas\n",
    "    - Cotação maxima\n",
    "    - Cotação minima\n",
    "    - Valor medio\n",
    "\n",
    "- Enviar um e-mail automaticamente para o gestor\n",
    "\n"
   ]
  },
  {
   "cell_type": "markdown",
   "metadata": {},
   "source": [
    "#### Buscar dados da ação automaticamente\n",
    "\n",
    "Bibliotecas yfinance e matplotlib\n",
    "\n",
    "pip install yfinace pip install matplotlib"
   ]
  },
  {
   "cell_type": "code",
   "execution_count": 80,
   "metadata": {},
   "outputs": [
    {
     "name": "stdout",
     "output_type": "stream",
     "text": [
      "Requirement already satisfied: yfinance in c:\\users\\anérciocarvalho\\appdata\\local\\programs\\python\\python312\\lib\\site-packages (0.2.41)\n",
      "Requirement already satisfied: pandas>=1.3.0 in c:\\users\\anérciocarvalho\\appdata\\local\\programs\\python\\python312\\lib\\site-packages (from yfinance) (2.2.2)\n",
      "Requirement already satisfied: numpy>=1.16.5 in c:\\users\\anérciocarvalho\\appdata\\local\\programs\\python\\python312\\lib\\site-packages (from yfinance) (2.0.1)\n",
      "Requirement already satisfied: requests>=2.31 in c:\\users\\anérciocarvalho\\appdata\\local\\programs\\python\\python312\\lib\\site-packages (from yfinance) (2.32.3)\n",
      "Requirement already satisfied: multitasking>=0.0.7 in c:\\users\\anérciocarvalho\\appdata\\local\\programs\\python\\python312\\lib\\site-packages (from yfinance) (0.0.11)\n",
      "Requirement already satisfied: lxml>=4.9.1 in c:\\users\\anérciocarvalho\\appdata\\local\\programs\\python\\python312\\lib\\site-packages (from yfinance) (5.2.2)\n",
      "Requirement already satisfied: platformdirs>=2.0.0 in c:\\users\\anérciocarvalho\\appdata\\local\\programs\\python\\python312\\lib\\site-packages (from yfinance) (4.2.2)\n",
      "Requirement already satisfied: pytz>=2022.5 in c:\\users\\anérciocarvalho\\appdata\\local\\programs\\python\\python312\\lib\\site-packages (from yfinance) (2024.1)\n",
      "Requirement already satisfied: frozendict>=2.3.4 in c:\\users\\anérciocarvalho\\appdata\\local\\programs\\python\\python312\\lib\\site-packages (from yfinance) (2.4.4)\n",
      "Requirement already satisfied: peewee>=3.16.2 in c:\\users\\anérciocarvalho\\appdata\\local\\programs\\python\\python312\\lib\\site-packages (from yfinance) (3.17.6)\n",
      "Requirement already satisfied: beautifulsoup4>=4.11.1 in c:\\users\\anérciocarvalho\\appdata\\local\\programs\\python\\python312\\lib\\site-packages (from yfinance) (4.12.3)\n",
      "Requirement already satisfied: html5lib>=1.1 in c:\\users\\anérciocarvalho\\appdata\\local\\programs\\python\\python312\\lib\\site-packages (from yfinance) (1.1)\n",
      "Requirement already satisfied: soupsieve>1.2 in c:\\users\\anérciocarvalho\\appdata\\local\\programs\\python\\python312\\lib\\site-packages (from beautifulsoup4>=4.11.1->yfinance) (2.5)\n",
      "Requirement already satisfied: six>=1.9 in c:\\users\\anérciocarvalho\\appdata\\local\\programs\\python\\python312\\lib\\site-packages (from html5lib>=1.1->yfinance) (1.16.0)\n",
      "Requirement already satisfied: webencodings in c:\\users\\anérciocarvalho\\appdata\\local\\programs\\python\\python312\\lib\\site-packages (from html5lib>=1.1->yfinance) (0.5.1)\n",
      "Requirement already satisfied: python-dateutil>=2.8.2 in c:\\users\\anérciocarvalho\\appdata\\local\\programs\\python\\python312\\lib\\site-packages (from pandas>=1.3.0->yfinance) (2.9.0.post0)\n",
      "Requirement already satisfied: tzdata>=2022.7 in c:\\users\\anérciocarvalho\\appdata\\local\\programs\\python\\python312\\lib\\site-packages (from pandas>=1.3.0->yfinance) (2024.1)\n",
      "Requirement already satisfied: charset-normalizer<4,>=2 in c:\\users\\anérciocarvalho\\appdata\\local\\programs\\python\\python312\\lib\\site-packages (from requests>=2.31->yfinance) (3.3.2)\n",
      "Requirement already satisfied: idna<4,>=2.5 in c:\\users\\anérciocarvalho\\appdata\\local\\programs\\python\\python312\\lib\\site-packages (from requests>=2.31->yfinance) (3.7)\n",
      "Requirement already satisfied: urllib3<3,>=1.21.1 in c:\\users\\anérciocarvalho\\appdata\\local\\programs\\python\\python312\\lib\\site-packages (from requests>=2.31->yfinance) (2.2.2)\n",
      "Requirement already satisfied: certifi>=2017.4.17 in c:\\users\\anérciocarvalho\\appdata\\local\\programs\\python\\python312\\lib\\site-packages (from requests>=2.31->yfinance) (2024.7.4)\n"
     ]
    },
    {
     "name": "stderr",
     "output_type": "stream",
     "text": [
      "\n",
      "[notice] A new release of pip is available: 24.0 -> 24.2\n",
      "[notice] To update, run: python.exe -m pip install --upgrade pip\n"
     ]
    }
   ],
   "source": [
    "#importando a yfinance\n",
    "!pip install yfinance"
   ]
  },
  {
   "cell_type": "code",
   "execution_count": 81,
   "metadata": {},
   "outputs": [
    {
     "name": "stdout",
     "output_type": "stream",
     "text": [
      "Requirement already satisfied: matplotlib in c:\\users\\anérciocarvalho\\appdata\\local\\programs\\python\\python312\\lib\\site-packages (3.9.1.post1)\n",
      "Requirement already satisfied: contourpy>=1.0.1 in c:\\users\\anérciocarvalho\\appdata\\local\\programs\\python\\python312\\lib\\site-packages (from matplotlib) (1.2.1)\n",
      "Requirement already satisfied: cycler>=0.10 in c:\\users\\anérciocarvalho\\appdata\\local\\programs\\python\\python312\\lib\\site-packages (from matplotlib) (0.12.1)\n",
      "Requirement already satisfied: fonttools>=4.22.0 in c:\\users\\anérciocarvalho\\appdata\\local\\programs\\python\\python312\\lib\\site-packages (from matplotlib) (4.53.1)\n",
      "Requirement already satisfied: kiwisolver>=1.3.1 in c:\\users\\anérciocarvalho\\appdata\\local\\programs\\python\\python312\\lib\\site-packages (from matplotlib) (1.4.5)\n",
      "Requirement already satisfied: numpy>=1.23 in c:\\users\\anérciocarvalho\\appdata\\local\\programs\\python\\python312\\lib\\site-packages (from matplotlib) (2.0.1)\n",
      "Requirement already satisfied: packaging>=20.0 in c:\\users\\anérciocarvalho\\appdata\\local\\programs\\python\\python312\\lib\\site-packages (from matplotlib) (24.1)\n",
      "Requirement already satisfied: pillow>=8 in c:\\users\\anérciocarvalho\\appdata\\local\\programs\\python\\python312\\lib\\site-packages (from matplotlib) (10.4.0)\n",
      "Requirement already satisfied: pyparsing>=2.3.1 in c:\\users\\anérciocarvalho\\appdata\\local\\programs\\python\\python312\\lib\\site-packages (from matplotlib) (3.1.2)\n",
      "Requirement already satisfied: python-dateutil>=2.7 in c:\\users\\anérciocarvalho\\appdata\\local\\programs\\python\\python312\\lib\\site-packages (from matplotlib) (2.9.0.post0)\n",
      "Requirement already satisfied: six>=1.5 in c:\\users\\anérciocarvalho\\appdata\\local\\programs\\python\\python312\\lib\\site-packages (from python-dateutil>=2.7->matplotlib) (1.16.0)\n"
     ]
    },
    {
     "name": "stderr",
     "output_type": "stream",
     "text": [
      "\n",
      "[notice] A new release of pip is available: 24.0 -> 24.2\n",
      "[notice] To update, run: python.exe -m pip install --upgrade pip\n"
     ]
    }
   ],
   "source": [
    "!pip install matplotlib"
   ]
  },
  {
   "cell_type": "code",
   "execution_count": 82,
   "metadata": {},
   "outputs": [],
   "source": [
    "# importando o yfinance\n",
    "import yfinance"
   ]
  },
  {
   "cell_type": "code",
   "execution_count": 83,
   "metadata": {},
   "outputs": [
    {
     "data": {
      "text/html": [
       "<div>\n",
       "<style scoped>\n",
       "    .dataframe tbody tr th:only-of-type {\n",
       "        vertical-align: middle;\n",
       "    }\n",
       "\n",
       "    .dataframe tbody tr th {\n",
       "        vertical-align: top;\n",
       "    }\n",
       "\n",
       "    .dataframe thead th {\n",
       "        text-align: right;\n",
       "    }\n",
       "</style>\n",
       "<table border=\"1\" class=\"dataframe\">\n",
       "  <thead>\n",
       "    <tr style=\"text-align: right;\">\n",
       "      <th></th>\n",
       "      <th>Open</th>\n",
       "      <th>High</th>\n",
       "      <th>Low</th>\n",
       "      <th>Close</th>\n",
       "      <th>Volume</th>\n",
       "      <th>Dividends</th>\n",
       "      <th>Stock Splits</th>\n",
       "    </tr>\n",
       "    <tr>\n",
       "      <th>Date</th>\n",
       "      <th></th>\n",
       "      <th></th>\n",
       "      <th></th>\n",
       "      <th></th>\n",
       "      <th></th>\n",
       "      <th></th>\n",
       "      <th></th>\n",
       "    </tr>\n",
       "  </thead>\n",
       "  <tbody>\n",
       "    <tr>\n",
       "      <th>2020-01-02 00:00:00-03:00</th>\n",
       "      <td>10.856116</td>\n",
       "      <td>10.923722</td>\n",
       "      <td>10.784951</td>\n",
       "      <td>10.923722</td>\n",
       "      <td>37774500</td>\n",
       "      <td>0.0</td>\n",
       "      <td>0.0</td>\n",
       "    </tr>\n",
       "    <tr>\n",
       "      <th>2020-01-03 00:00:00-03:00</th>\n",
       "      <td>10.987770</td>\n",
       "      <td>11.115866</td>\n",
       "      <td>10.834767</td>\n",
       "      <td>10.834767</td>\n",
       "      <td>71595600</td>\n",
       "      <td>0.0</td>\n",
       "      <td>0.0</td>\n",
       "    </tr>\n",
       "    <tr>\n",
       "      <th>2020-01-06 00:00:00-03:00</th>\n",
       "      <td>10.827649</td>\n",
       "      <td>11.009118</td>\n",
       "      <td>10.656855</td>\n",
       "      <td>10.962861</td>\n",
       "      <td>81844000</td>\n",
       "      <td>0.0</td>\n",
       "      <td>0.0</td>\n",
       "    </tr>\n",
       "    <tr>\n",
       "      <th>2020-01-07 00:00:00-03:00</th>\n",
       "      <td>10.966419</td>\n",
       "      <td>10.987768</td>\n",
       "      <td>10.841881</td>\n",
       "      <td>10.920162</td>\n",
       "      <td>32822000</td>\n",
       "      <td>0.0</td>\n",
       "      <td>0.0</td>\n",
       "    </tr>\n",
       "    <tr>\n",
       "      <th>2020-01-08 00:00:00-03:00</th>\n",
       "      <td>10.920163</td>\n",
       "      <td>10.948629</td>\n",
       "      <td>10.760043</td>\n",
       "      <td>10.852557</td>\n",
       "      <td>48215600</td>\n",
       "      <td>0.0</td>\n",
       "      <td>0.0</td>\n",
       "    </tr>\n",
       "    <tr>\n",
       "      <th>...</th>\n",
       "      <td>...</td>\n",
       "      <td>...</td>\n",
       "      <td>...</td>\n",
       "      <td>...</td>\n",
       "      <td>...</td>\n",
       "      <td>...</td>\n",
       "      <td>...</td>\n",
       "    </tr>\n",
       "    <tr>\n",
       "      <th>2020-12-22 00:00:00-03:00</th>\n",
       "      <td>9.678540</td>\n",
       "      <td>9.774613</td>\n",
       "      <td>9.625165</td>\n",
       "      <td>9.707006</td>\n",
       "      <td>46513200</td>\n",
       "      <td>0.0</td>\n",
       "      <td>0.0</td>\n",
       "    </tr>\n",
       "    <tr>\n",
       "      <th>2020-12-23 00:00:00-03:00</th>\n",
       "      <td>9.760381</td>\n",
       "      <td>10.052160</td>\n",
       "      <td>9.731914</td>\n",
       "      <td>9.945412</td>\n",
       "      <td>49038900</td>\n",
       "      <td>0.0</td>\n",
       "      <td>0.0</td>\n",
       "    </tr>\n",
       "    <tr>\n",
       "      <th>2020-12-28 00:00:00-03:00</th>\n",
       "      <td>10.091300</td>\n",
       "      <td>10.148232</td>\n",
       "      <td>10.027250</td>\n",
       "      <td>10.027250</td>\n",
       "      <td>36313300</td>\n",
       "      <td>0.0</td>\n",
       "      <td>0.0</td>\n",
       "    </tr>\n",
       "    <tr>\n",
       "      <th>2020-12-29 00:00:00-03:00</th>\n",
       "      <td>10.098415</td>\n",
       "      <td>10.116207</td>\n",
       "      <td>9.959642</td>\n",
       "      <td>10.059275</td>\n",
       "      <td>29891100</td>\n",
       "      <td>0.0</td>\n",
       "      <td>0.0</td>\n",
       "    </tr>\n",
       "    <tr>\n",
       "      <th>2020-12-30 00:00:00-03:00</th>\n",
       "      <td>10.087742</td>\n",
       "      <td>10.137558</td>\n",
       "      <td>10.034368</td>\n",
       "      <td>10.084184</td>\n",
       "      <td>36968200</td>\n",
       "      <td>0.0</td>\n",
       "      <td>0.0</td>\n",
       "    </tr>\n",
       "  </tbody>\n",
       "</table>\n",
       "<p>248 rows × 7 columns</p>\n",
       "</div>"
      ],
      "text/plain": [
       "                                Open       High        Low      Close  \\\n",
       "Date                                                                    \n",
       "2020-01-02 00:00:00-03:00  10.856116  10.923722  10.784951  10.923722   \n",
       "2020-01-03 00:00:00-03:00  10.987770  11.115866  10.834767  10.834767   \n",
       "2020-01-06 00:00:00-03:00  10.827649  11.009118  10.656855  10.962861   \n",
       "2020-01-07 00:00:00-03:00  10.966419  10.987768  10.841881  10.920162   \n",
       "2020-01-08 00:00:00-03:00  10.920163  10.948629  10.760043  10.852557   \n",
       "...                              ...        ...        ...        ...   \n",
       "2020-12-22 00:00:00-03:00   9.678540   9.774613   9.625165   9.707006   \n",
       "2020-12-23 00:00:00-03:00   9.760381  10.052160   9.731914   9.945412   \n",
       "2020-12-28 00:00:00-03:00  10.091300  10.148232  10.027250  10.027250   \n",
       "2020-12-29 00:00:00-03:00  10.098415  10.116207   9.959642  10.059275   \n",
       "2020-12-30 00:00:00-03:00  10.087742  10.137558  10.034368  10.084184   \n",
       "\n",
       "                             Volume  Dividends  Stock Splits  \n",
       "Date                                                          \n",
       "2020-01-02 00:00:00-03:00  37774500        0.0           0.0  \n",
       "2020-01-03 00:00:00-03:00  71595600        0.0           0.0  \n",
       "2020-01-06 00:00:00-03:00  81844000        0.0           0.0  \n",
       "2020-01-07 00:00:00-03:00  32822000        0.0           0.0  \n",
       "2020-01-08 00:00:00-03:00  48215600        0.0           0.0  \n",
       "...                             ...        ...           ...  \n",
       "2020-12-22 00:00:00-03:00  46513200        0.0           0.0  \n",
       "2020-12-23 00:00:00-03:00  49038900        0.0           0.0  \n",
       "2020-12-28 00:00:00-03:00  36313300        0.0           0.0  \n",
       "2020-12-29 00:00:00-03:00  29891100        0.0           0.0  \n",
       "2020-12-30 00:00:00-03:00  36968200        0.0           0.0  \n",
       "\n",
       "[248 rows x 7 columns]"
      ]
     },
     "execution_count": 83,
     "metadata": {},
     "output_type": "execute_result"
    }
   ],
   "source": [
    "yfinance.Ticker(\"PETR4.SA\").history(start = \"2020-01-01\", end = \"2020-12-31\")"
   ]
  },
  {
   "cell_type": "markdown",
   "metadata": {},
   "source": [
    "# criando uma variavel para armazenar a tabela\n",
    " - puxando os dados da coluna de (fechamento = close, abertura = open)"
   ]
  },
  {
   "cell_type": "code",
   "execution_count": 84,
   "metadata": {},
   "outputs": [
    {
     "data": {
      "text/plain": [
       "Date\n",
       "2020-01-02 00:00:00-03:00    10.923722\n",
       "2020-01-03 00:00:00-03:00    10.834767\n",
       "2020-01-06 00:00:00-03:00    10.962861\n",
       "2020-01-07 00:00:00-03:00    10.920162\n",
       "2020-01-08 00:00:00-03:00    10.852557\n",
       "                               ...    \n",
       "2020-12-22 00:00:00-03:00     9.707006\n",
       "2020-12-23 00:00:00-03:00     9.945412\n",
       "2020-12-28 00:00:00-03:00    10.027250\n",
       "2020-12-29 00:00:00-03:00    10.059275\n",
       "2020-12-30 00:00:00-03:00    10.084184\n",
       "Name: Close, Length: 248, dtype: float64"
      ]
     },
     "execution_count": 84,
     "metadata": {},
     "output_type": "execute_result"
    }
   ],
   "source": [
    "dados = yfinance.Ticker(\"PETR4.SA\").history(start = \"2020-01-01\", end = \"2020-12-31\")\n",
    "dados.Close"
   ]
  },
  {
   "cell_type": "markdown",
   "metadata": {},
   "source": [
    "### Agora vamos criar uma variavel para close = fechamento\n",
    "- vamos criar uma grafico com matplotlib"
   ]
  },
  {
   "cell_type": "code",
   "execution_count": 85,
   "metadata": {},
   "outputs": [
    {
     "data": {
      "text/plain": [
       "Date\n",
       "2020-01-02 00:00:00-03:00    10.923722\n",
       "2020-01-03 00:00:00-03:00    10.834767\n",
       "2020-01-06 00:00:00-03:00    10.962861\n",
       "2020-01-07 00:00:00-03:00    10.920162\n",
       "2020-01-08 00:00:00-03:00    10.852557\n",
       "                               ...    \n",
       "2020-12-22 00:00:00-03:00     9.707006\n",
       "2020-12-23 00:00:00-03:00     9.945412\n",
       "2020-12-28 00:00:00-03:00    10.027250\n",
       "2020-12-29 00:00:00-03:00    10.059275\n",
       "2020-12-30 00:00:00-03:00    10.084184\n",
       "Name: Close, Length: 248, dtype: float64"
      ]
     },
     "execution_count": 85,
     "metadata": {},
     "output_type": "execute_result"
    }
   ],
   "source": [
    "dados = yfinance.Ticker(\"PETR4.SA\").history(start = \"2020-01-01\", end = \"2020-12-31\")\n",
    "fechamento = dados.Close\n",
    "fechamento"
   ]
  },
  {
   "cell_type": "code",
   "execution_count": 86,
   "metadata": {},
   "outputs": [
    {
     "data": {
      "text/plain": [
       "<Axes: xlabel='Date'>"
      ]
     },
     "execution_count": 86,
     "metadata": {},
     "output_type": "execute_result"
    },
    {
     "data": {
      "image/png": "[encoded data removed]",
      "text/plain": [
       "<Figure size 640x480 with 1 Axes>"
      ]
     },
     "metadata": {},
     "output_type": "display_data"
    }
   ],
   "source": [
    "dados = yfinance.Ticker(\"PETR4.SA\").history(start=\"2020-01-01\", end=\"2020-12-31\")\n",
    "fechamento = dados.Close\n",
    "fechamento.plot()   "
   ]
  },
  {
   "cell_type": "markdown",
   "metadata": {},
   "source": [
    "#### Agora vamos automatizar, o Ticker para não ter que mexer no codigo toda vez que fizer uma pesquisa.\n",
    " - Iremos colocar um comando 'input' para nos ajudar"
   ]
  },
  {
   "cell_type": "code",
   "execution_count": 87,
   "metadata": {},
   "outputs": [
    {
     "data": {
      "text/plain": [
       "<Axes: xlabel='Date'>"
      ]
     },
     "execution_count": 87,
     "metadata": {},
     "output_type": "execute_result"
    },
    {
     "data": {
      "image/png": "[encoded data removed]",
      "text/plain": [
       "<Figure size 640x480 with 1 Axes>"
      ]
     },
     "metadata": {},
     "output_type": "display_data"
    }
   ],
   "source": [
    "ticker = input(\"Digite o codigo da ação desejada.\")\n",
    "\n",
    "dados = yfinance.Ticker(ticker).history(start=\"2020-01-01\", end=\"2020-12-31\")\n",
    "fechamento = dados.Close\n",
    "fechamento.plot()"
   ]
  },
  {
   "cell_type": "markdown",
   "metadata": {},
   "source": [
    "#### Criar as analises solicitadas\n",
    "- Cotação maxima\n",
    "- Cotação minima\n",
    "- Valor medio"
   ]
  },
  {
   "cell_type": "markdown",
   "metadata": {},
   "source": [
    "### Para puxarmos os valores iremos buscar a tabela de \"fechamento\" e adicionar \n",
    "- maximo => \"max' , minimo => \"min\" e media => \"mean\"\n",
    "- Segue o exemplo abaixo"
   ]
  },
  {
   "cell_type": "code",
   "execution_count": 88,
   "metadata": {},
   "outputs": [
    {
     "data": {
      "text/plain": [
       "np.float64(19.970256805419922)"
      ]
     },
     "execution_count": 88,
     "metadata": {},
     "output_type": "execute_result"
    }
   ],
   "source": [
    "fechamento.max()"
   ]
  },
  {
   "cell_type": "code",
   "execution_count": 89,
   "metadata": {},
   "outputs": [
    {
     "data": {
      "text/plain": [
       "np.float64(8.330194473266602)"
      ]
     },
     "execution_count": 89,
     "metadata": {},
     "output_type": "execute_result"
    }
   ],
   "source": [
    "fechamento.min()"
   ]
  },
  {
   "cell_type": "code",
   "execution_count": 90,
   "metadata": {},
   "outputs": [
    {
     "data": {
      "text/plain": [
       "np.float64(13.35575642124299)"
      ]
     },
     "execution_count": 90,
     "metadata": {},
     "output_type": "execute_result"
    }
   ],
   "source": [
    "fechamento.mean()"
   ]
  },
  {
   "cell_type": "markdown",
   "metadata": {},
   "source": [
    "### Podemos criar uma variavel, depois iremos criar o comando \"round\" para configurar as casas decimais.\n",
    "Segue abaixo"
   ]
  },
  {
   "cell_type": "code",
   "execution_count": 91,
   "metadata": {},
   "outputs": [
    {
     "name": "stdout",
     "output_type": "stream",
     "text": [
      "19.970256805419922\n",
      "8.330194473266602\n",
      "13.35575642124299\n"
     ]
    }
   ],
   "source": [
    "maxima = fechamento.max()\n",
    "minimo = fechamento.min()\n",
    "valor_medio = fechamento.mean()\n",
    "print(maxima)\n",
    "print(minimo)\n",
    "print(valor_medio)"
   ]
  },
  {
   "cell_type": "markdown",
   "metadata": {},
   "source": [
    "### Aplicando o \"round\""
   ]
  },
  {
   "cell_type": "code",
   "execution_count": 92,
   "metadata": {},
   "outputs": [
    {
     "name": "stdout",
     "output_type": "stream",
     "text": [
      "19.97\n",
      "8.33\n",
      "13.36\n"
     ]
    }
   ],
   "source": [
    "maxima = round(fechamento.max(), 2)\n",
    "minimo = round(fechamento.min(), 2)\n",
    "valor_medio = round(fechamento.mean(), 2)\n",
    "print(maxima)\n",
    "print(minimo)\n",
    "print(valor_medio)\n"
   ]
  },
  {
   "cell_type": "markdown",
   "metadata": {},
   "source": [
    "#### Enviar o e-mail automaticamente\n",
    "\n",
    "- abrir o navegador e ir para o gmail\n",
    "- Clicar no botao escrever\n",
    "- Digitar o e-mail do destinatario e teclar TAB\n",
    "- Digitar o assunto e teclar TAB\n",
    "- Digitar a mensagem\n",
    "- clicar no botão enviar\n",
    "\n",
    "Bibliotecas : 'pyautogui', 'pyperclip'\n",
    "\n",
    "'pip install pyautogui'\n"
   ]
  },
  {
   "cell_type": "code",
   "execution_count": null,
   "metadata": {},
   "outputs": [],
   "source": [
    "import pyautogui\n",
    "import pyperclip\n",
    "import webbrowser\n",
    "import time\n",
    "\n",
    "destinatario = \"fabriscorretordeimoveis@gmail.com\"\n",
    "assunto = \"Análise do Projeto02\"\n",
    "\n",
    "# usando \"\"\" para abrir \"\"\" para fechar ele ira fazer a quebra de pagina no texto.\n",
    "# usando f na frente das aspas para concatenar e colocar chaves as variaveis {}.\n",
    " \n",
    "mensagem = f\"\"\"\n",
    "Prezado gestor,\n",
    "\n",
    "Seguem as análises solicitadas da ação {ticker}:\n",
    "\n",
    "Cotação máxima: R$ {maxima}\n",
    "Cotação mínima: R$ {minimo}\n",
    "Valor médio: R$ {valor_medio}\n",
    "\n",
    "Qualquer dúvida, estou a disposição!\n",
    "\n",
    "Atte.\n",
    "\"\"\"  \n",
    "\n",
    "# abrir o navegador e ir para o gmail\n",
    "\n",
    "webbrowser.open(\"www.gmail.com\")\n",
    "time.sleep(3) \n",
    "\n",
    "# configurando uma pausa de 3 segundos\n",
    "pyautogui.PAUSE = 3\n",
    "\n",
    "# clicar no botão escrever\n",
    "pyautogui.click(x=112, y=269)    \n",
    "\n",
    "# digitar o e-mail do destinatario e teclar TAB\n",
    "pyperclip.copy(destinatario)\n",
    "pyautogui.hotkey(\"ctrl\", \"v\")\n",
    "pyautogui.hotkey(\"tab\")\n",
    "\n",
    "# digitar o assunto no e-mail\n",
    "pyperclip.copy(assunto)\n",
    "pyautogui.hotkey(\"ctrl\", \"v\")\n",
    "pyautogui.hotkey(\"tab\")\n",
    "\n",
    "# digitar a mensagem\n",
    "pyperclip.copy(mensagem)\n",
    "pyautogui.hotkey(\"ctrl\", \"v\")\n",
    "\n",
    "# clicar no botão enviar\n",
    "pyautogui.click(x=1068, y=947)\n",
    "\n",
    "# clicar no botão enviar\n",
    "pyautogui.click(\"ctrl\", \"f4\")"
   ]
  },
  {
   "cell_type": "code",
   "execution_count": 97,
   "metadata": {},
   "outputs": [
    {
     "data": {
      "text/plain": [
       "Point(x=1068, y=947)"
      ]
     },
     "execution_count": 97,
     "metadata": {},
     "output_type": "execute_result"
    }
   ],
   "source": [
    "# usar o codigo para pegar a coordenada, ou seja para mapear a tela de onde o mause irá clicar.\n",
    "time.sleep(5)   \n",
    "pyautogui.position() "
   ]
  },
  {
   "cell_type": "markdown",
   "metadata": {},
   "source": [
    "\n"
   ]
  }
 ],
 "metadata": {
  "kernelspec": {
   "display_name": "Python 3",
   "language": "python",
   "name": "python3"
  },
  "language_info": {
   "codemirror_mode": {
    "name": "ipython",
    "version": 3
   },
   "file_extension": ".py",
   "mimetype": "text/x-python",
   "name": "python",
   "nbconvert_exporter": "python",
   "pygments_lexer": "ipython3",
   "version": "3.12.4"
  }
 },
 "nbformat": 4,
 "nbformat_minor": 2
}
