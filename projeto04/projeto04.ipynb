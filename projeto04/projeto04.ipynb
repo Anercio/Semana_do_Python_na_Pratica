{
 "cells": [
  {
   "cell_type": "markdown",
   "metadata": {},
   "source": [
    "#### Projeto 04\n",
    "\n",
    "- pip install opencv-python\n",
    "- pip install mediapipe\n",
    "- pip install cvzone"
   ]
  },
  {
   "cell_type": "code",
   "execution_count": null,
   "metadata": {},
   "outputs": [],
   "source": [
    "%pip install opencv-python\n",
    "%pip install mediapipe\n",
    "%pip install cvzone"
   ]
  },
  {
   "cell_type": "markdown",
   "metadata": {},
   "source": [
    "#### Loopings com while"
   ]
  },
  {
   "cell_type": "code",
   "execution_count": null,
   "metadata": {},
   "outputs": [],
   "source": [
    "numeros = [ 1, 2, 3, 4, 5]\n",
    "\n",
    "for numero in numeros:\n",
    "    print(numero)"
   ]
  },
  {
   "cell_type": "code",
   "execution_count": null,
   "metadata": {},
   "outputs": [],
   "source": [
    "# vamos criar uma variavel contador\n",
    "contaador = 5\n",
    "\n",
    "while contaador > 0:\n",
    "    print(contaador)\n",
    "    contaador = contaador - 1"
   ]
  },
  {
   "cell_type": "markdown",
   "metadata": {},
   "source": [
    "#### Testes logicos com if\n"
   ]
  },
  {
   "cell_type": "code",
   "execution_count": null,
   "metadata": {},
   "outputs": [],
   "source": [
    "# a linguaguem for igual == Pyton ira printar \"melhor linguagem do mundo!\"\n",
    "linguagem = \"Python\"\n",
    "\n",
    "if linguagem == \"Python\":\n",
    "    print(\"Melhor linguagem do mundo!\")"
   ]
  },
  {
   "cell_type": "code",
   "execution_count": null,
   "metadata": {},
   "outputs": [],
   "source": [
    "# a linguaguem for diferente != de  Pyton ira printar \"melhor linguagem do mundo!\"\n",
    "linguagem = \"Cobol\"\n",
    "\n",
    "if linguagem != \"Python\":\n",
    "    print(\"Não è a Melhor linguagem do mundo!\")"
   ]
  },
  {
   "cell_type": "code",
   "execution_count": null,
   "metadata": {},
   "outputs": [],
   "source": [
    "# Loopings infinitos com while e if\n",
    "while True:\n",
    "    texto = input(\"teste\")\n",
    "    print(texto)\n",
    "    if texto == \"parar\":\n",
    "        break"
   ]
  },
  {
   "cell_type": "code",
   "execution_count": null,
   "metadata": {},
   "outputs": [],
   "source": [
    "import cv2\n",
    "from cvzone.HandTrackingModule import HandDetector\n",
    "\n",
    "# Inicializa a webcam\n",
    "webcam = cv2.VideoCapture(0)\n",
    "\n",
    "# Inicializa o rastreador de mãos\n",
    "rastreador = HandDetector(detectionCon=0.8, maxHands=2)\n",
    " \n",
    "while True:\n",
    "    # Captura a imagem da webcam\n",
    "    sucesso, imagem = webcam.read()\n",
    "\n",
    "    # Detecta as mãos no quadro\n",
    "    hands, imagem_maos = rastreador.findHands(imagem)\n",
    "    \n",
    "    # Mostra o quadro com as marcações\n",
    "    cv2.imshow(\"Projeto 4 - IA\", imagem_maos)\n",
    "\n",
    "    # Encerra a aplicação quando a tecla 'q' é pressionada\n",
    "    if cv2.waitKey(1) & 0xFF == ord('q'):\n",
    "        break\n",
    "\n",
    "# Libera a câmera e fecha as janelas\n",
    "webcam.release()\n",
    "cv2.destroyAllWindows()"
   ]
  },
  {
   "cell_type": "code",
   "execution_count": null,
   "metadata": {},
   "outputs": [],
   "source": []
  }
 ],
 "metadata": {
  "kernelspec": {
   "display_name": "Python 3",
   "language": "python",
   "name": "python3"
  },
  "language_info": {
   "codemirror_mode": {
    "name": "ipython",
    "version": 3
   },
   "file_extension": ".py",
   "mimetype": "text/x-python",
   "name": "python",
   "nbconvert_exporter": "python",
   "pygments_lexer": "ipython3",
   "version": "3.12.4"
  }
 },
 "nbformat": 4,
 "nbformat_minor": 2
}
